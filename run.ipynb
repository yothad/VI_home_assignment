{
 "cells": [
  {
   "cell_type": "code",
   "execution_count": null,
   "id": "2b325767",
   "metadata": {},
   "outputs": [],
   "source": [
    "from steps.imports import ImportData\n",
    "from steps.preprocess import PreprocessData\n",
    "from steps.model import ModelChurn\n",
    "from steps.export import ExportData"
   ]
  },
  {
   "cell_type": "code",
   "execution_count": 7,
   "id": "1b649db0",
   "metadata": {},
   "outputs": [],
   "source": [
    "paths_dict = {\n",
    "    'churn_labels': 'data/churn_labels.csv',\n",
    "    'claims': 'data/claims.csv', \n",
    "    'app_usage': 'data/app_usage.csv', \n",
    "    'web_visits': 'data/web_visits.csv',\n",
    "}\n",
    "\n",
    "raw_data = ImportData(paths_dict)\n",
    "raw_data._execute()"
   ]
  },
  {
   "cell_type": "code",
   "execution_count": 8,
   "id": "56b22ef5",
   "metadata": {},
   "outputs": [],
   "source": [
    "preprocess_data = PreprocessData(raw_dfs=raw_data.dfs)\n",
    "preprocess_data._execute()"
   ]
  },
  {
   "cell_type": "code",
   "execution_count": 9,
   "id": "9597cf09",
   "metadata": {},
   "outputs": [
    {
     "name": "stdout",
     "output_type": "stream",
     "text": [
      "Selected features: ['icd_A09', 'icd_E11.9', 'icd_H10.9', 'icd_I10', 'icd_K21.9', 'icd_M54.5', 'icd_Z71.3', 'web_Budget planning', 'web_Exercise routines', 'web_Meditation guide']\n",
      "Best threshold by f1: 0.02 with score: 0.338\n",
      "Tuned threshold model performance:\n",
      "              precision    recall  f1-score   support\n",
      "\n",
      "           0       0.86      0.03      0.05      2659\n",
      "           1       0.20      0.98      0.34       674\n",
      "\n",
      "    accuracy                           0.22      3333\n",
      "   macro avg       0.53      0.50      0.20      3333\n",
      "weighted avg       0.73      0.22      0.11      3333\n",
      "\n",
      "ROC AUC: 0.5368118801494951\n"
     ]
    }
   ],
   "source": [
    "xgboost_model = ModelChurn(churn_labels_df=preprocess_data.labels_df)\n",
    "model, selected_features, X_test, y_test, y_pred_tuned, y_prob = xgboost_model._execute()"
   ]
  },
  {
   "cell_type": "code",
   "execution_count": 10,
   "id": "4a1fd475",
   "metadata": {},
   "outputs": [
    {
     "name": "stdout",
     "output_type": "stream",
     "text": [
      "30 members exported to export/exported_members.csv\n"
     ]
    }
   ],
   "source": [
    "path = 'export/exported_members.csv'\n",
    "export_data = ExportData(path=path,\n",
    "                 churn_labels_df=preprocess_data.labels_df,\n",
    "                 selected_features=selected_features,\n",
    "                 model=model,\n",
    "                 prob_threshold=0.5)\n",
    "members_list_df = export_data._execute()"
   ]
  }
 ],
 "metadata": {
  "kernelspec": {
   "display_name": ".venv",
   "language": "python",
   "name": "python3"
  },
  "language_info": {
   "codemirror_mode": {
    "name": "ipython",
    "version": 3
   },
   "file_extension": ".py",
   "mimetype": "text/x-python",
   "name": "python",
   "nbconvert_exporter": "python",
   "pygments_lexer": "ipython3",
   "version": "3.13.7"
  }
 },
 "nbformat": 4,
 "nbformat_minor": 5
}
